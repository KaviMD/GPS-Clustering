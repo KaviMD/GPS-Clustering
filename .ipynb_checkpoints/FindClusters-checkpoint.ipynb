{
 "cells": [
  {
   "cell_type": "code",
   "execution_count": 1,
   "metadata": {},
   "outputs": [
    {
     "name": "stdout",
     "output_type": "stream",
     "text": [
      "Requirement already satisfied: geopy in /usr/local/lib/python2.7/site-packages (1.14.0)\n",
      "Requirement already satisfied: shapely in /usr/local/lib/python2.7/site-packages (1.6.4.post1)\n",
      "Requirement already satisfied: geographiclib<2,>=1.49 in /usr/local/lib/python2.7/site-packages (from geopy) (1.49)\n"
     ]
    }
   ],
   "source": [
    "### Install Necessary Libraries ###\n",
    "\n",
    "\n",
    "import sys\n",
    "!{sys.executable} -m pip install geopy shapely"
   ]
  },
  {
   "cell_type": "code",
   "execution_count": 53,
   "metadata": {},
   "outputs": [],
   "source": [
    "import pandas as pd\n",
    "import numpy as np\n",
    "import matplotlib.pyplot as plt\n",
    "import math"
   ]
  },
  {
   "cell_type": "code",
   "execution_count": 59,
   "metadata": {},
   "outputs": [],
   "source": [
    "def convertToMeters(longitude, latitude):\n",
    "    return ((85390*longitude), (111030*latitude))\n",
    "\n",
    "\n",
    "def distance(pt1, pt2):\n",
    "    dist1 = abs(pt1[0]-pt2[0])\n",
    "    dist2 = abs(pt1[1] - pt2[1])\n",
    "    x, y = convertToMeters(dist1,dist2)\n",
    "    ## print x,y\n",
    "    return np.sqrt((x**2+y**2))\n",
    "\n",
    "def findClusters(df):\n",
    "    data = df.values\n",
    "    cluster = []\n",
    "    clusters = []\n",
    "    startPt = data[0]\n",
    "    \n",
    "    for i in range(1, len(data)):\n",
    "        if distance(startPt, data[i]) <= 100:\n",
    "            #print 'Added line'\n",
    "            cluster.append(list(data[i]))\n",
    "        elif len(cluster) > 0 and abs(cluster[0][2] - cluster[-1][2]) > 900:\n",
    "            clusters.append(cluster)\n",
    "            cluster = []\n",
    "            startPt = data[i]\n",
    "            #print 'Added cluster'\n",
    "        else:\n",
    "            startPt = data[i]\n",
    "    #print abs(cluster[0][2] - cluster[-1][2])\n",
    "    #print len(cluster) > 0\n",
    "    if len(cluster) > 0 and abs(cluster[0][2] - cluster[-1][2]) > 900:\n",
    "        #print 'Added cluster'\n",
    "        clusters.append(cluster)\n",
    "    return clusters\n",
    "\n",
    "def haversine(coord1, coord2):\n",
    "\n",
    "    # Coordinates in decimal degrees (e.g. 2.89078, 12.79797)\n",
    "    lon1, lat1 = (coord1[0],coord1[1])\n",
    "    lon2, lat2 = (coord2[0]),coord2[1]\n",
    "\n",
    "    R = 6371000  # radius of Earth in meters\n",
    "    phi_1 = math.radians(lat1)\n",
    "    phi_2 = math.radians(lat2)\n",
    "\n",
    "    delta_phi = math.radians(lat2 - lat1)\n",
    "    delta_lambda = math.radians(lon2 - lon1)\n",
    "\n",
    "    a = math.sin(delta_phi / 2.0) ** 2 + math.cos(phi_1) * math.cos(phi_2) * math.sin(delta_lambda / 2.0) ** 2\n",
    "    \n",
    "    c = 2 * math.atan2(math.sqrt(a), math.sqrt(1 - a))\n",
    "\n",
    "    meters = R * c  # output distance in meters\n",
    "    \n",
    "    return meters"
   ]
  },
  {
   "cell_type": "code",
   "execution_count": 60,
   "metadata": {},
   "outputs": [
    {
     "data": {
      "text/plain": [
       "[<matplotlib.lines.Line2D at 0x107131590>]"
      ]
     },
     "execution_count": 60,
     "metadata": {},
     "output_type": "execute_result"
    },
    {
     "data": {
      "image/png": "[encoded data removed]",
      "text/plain": [
       "<matplotlib.figure.Figure at 0x106d8ff50>"
      ]
     },
     "metadata": {},
     "output_type": "display_data"
    }
   ],
   "source": [
    "df = pd.read_csv('Data/gps_data.csv').filter(items=['X','Y','time'])\n",
    "\n",
    "#print df.head()\n",
    "\n",
    "plt.plot(df['X'],df['Y'])"
   ]
  },
  {
   "cell_type": "code",
   "execution_count": 63,
   "metadata": {},
   "outputs": [
    {
     "ename": "TypeError",
     "evalue": "cannot concatenate 'str' and 'int' objects",
     "output_type": "error",
     "traceback": [
      "\u001b[0;31m---------------------------------------------------------------------------\u001b[0m",
      "\u001b[0;31mTypeError\u001b[0m                                 Traceback (most recent call last)",
      "\u001b[0;32m<ipython-input-63-9540f4583843>\u001b[0m in \u001b[0;36m<module>\u001b[0;34m()\u001b[0m\n\u001b[0;32m----> 1\u001b[0;31m \u001b[0;32mprint\u001b[0m \u001b[0;34m'Number of Clusters: '\u001b[0m\u001b[0;34m+\u001b[0m\u001b[0mlen\u001b[0m\u001b[0;34m(\u001b[0m\u001b[0mfindClusters\u001b[0m\u001b[0;34m(\u001b[0m\u001b[0mdf\u001b[0m\u001b[0;34m)\u001b[0m\u001b[0;34m)\u001b[0m\u001b[0;34m\u001b[0m\u001b[0m\n\u001b[0m\u001b[1;32m      2\u001b[0m \u001b[0;34m\u001b[0m\u001b[0m\n\u001b[1;32m      3\u001b[0m \u001b[0;34m\u001b[0m\u001b[0m\n\u001b[1;32m      4\u001b[0m \u001b[0mcluster_df\u001b[0m \u001b[0;34m=\u001b[0m \u001b[0mpd\u001b[0m\u001b[0;34m.\u001b[0m\u001b[0mDataFrame\u001b[0m\u001b[0;34m(\u001b[0m\u001b[0mdata\u001b[0m\u001b[0;34m=\u001b[0m\u001b[0mfindClusters\u001b[0m\u001b[0;34m(\u001b[0m\u001b[0mdf\u001b[0m\u001b[0;34m)\u001b[0m\u001b[0;34m[\u001b[0m\u001b[0;36m0\u001b[0m\u001b[0;34m]\u001b[0m\u001b[0;34m,\u001b[0m \u001b[0mcolumns\u001b[0m\u001b[0;34m=\u001b[0m\u001b[0;34m[\u001b[0m\u001b[0;34m'X'\u001b[0m\u001b[0;34m,\u001b[0m\u001b[0;34m'Y'\u001b[0m\u001b[0;34m,\u001b[0m\u001b[0;34m'time'\u001b[0m\u001b[0;34m]\u001b[0m\u001b[0;34m)\u001b[0m\u001b[0;34m\u001b[0m\u001b[0m\n\u001b[1;32m      5\u001b[0m \u001b[0mplt\u001b[0m\u001b[0;34m.\u001b[0m\u001b[0mplot\u001b[0m\u001b[0;34m(\u001b[0m\u001b[0mcluster_df\u001b[0m\u001b[0;34m[\u001b[0m\u001b[0;34m'X'\u001b[0m\u001b[0;34m]\u001b[0m\u001b[0;34m,\u001b[0m\u001b[0mcluster_df\u001b[0m\u001b[0;34m[\u001b[0m\u001b[0;34m'Y'\u001b[0m\u001b[0;34m]\u001b[0m\u001b[0;34m)\u001b[0m\u001b[0;34m\u001b[0m\u001b[0m\n",
      "\u001b[0;31mTypeError\u001b[0m: cannot concatenate 'str' and 'int' objects"
     ]
    }
   ],
   "source": [
    "print 'Number of Clusters: '+str(len(findClusters(df)))\n",
    "\n",
    "\n",
    "cluster_df = pd.DataFrame(data=findClusters(df)[0], columns=['X','Y','time'])\n",
    "plt.plot(cluster_df['X'],cluster_df['Y'])"
   ]
  },
  {
   "cell_type": "code",
   "execution_count": null,
   "metadata": {},
   "outputs": [],
   "source": []
  }
 ],
 "metadata": {
  "kernelspec": {
   "display_name": "Python 2",
   "language": "python",
   "name": "python2"
  },
  "language_info": {
   "codemirror_mode": {
    "name": "ipython",
    "version": 2
   },
   "file_extension": ".py",
   "mimetype": "text/x-python",
   "name": "python",
   "nbconvert_exporter": "python",
   "pygments_lexer": "ipython2",
   "version": "2.7.14"
  }
 },
 "nbformat": 4,
 "nbformat_minor": 2
}
